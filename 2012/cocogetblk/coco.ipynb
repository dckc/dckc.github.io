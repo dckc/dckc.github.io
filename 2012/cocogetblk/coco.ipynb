{
 "metadata": {
  "name": "coco"
 },
 "nbformat": 3,
 "nbformat_minor": 0,
 "worksheets": [
  {
   "cells": [
    {
     "cell_type": "heading",
     "level": 1,
     "metadata": {},
     "source": [
      "Light Runner, an exercise in digital preservation"
     ]
    },
    {
     "cell_type": "markdown",
     "metadata": {},
     "source": [
      "In my teens, I wrote a [Tron][] work-alike called _Light Runner_ in\n",
      "assembly for the Color Computer; I even got Prickly Pear Software to\n",
      "release it commercially. I can't find my source code (_Grrr!_), but I have a\n",
      "copy of the product on cassette tape. I didn't quite get it restored\n",
      "to working order, but I had some fun trying.\n",
      "\n",
      "[Tron]: http://en.wikipedia.org/wiki/Tron_(video_game)\n",
      "\n",
      "<figure>\n",
      "  <img src='https://lh5.googleusercontent.com/-HfOBzwjRTB0/UN9ciuLvwzI/AAAAAAAAAkA/T89gPR2lWvQ/w497-h373/IMG_20121229_145634.jpg' />\n",
      "  <figcaption>Light Runner and The Facts for the CoCo</figcaption>\n",
      "</figure"
     ]
    },
    {
     "cell_type": "markdown",
     "metadata": {},
     "source": [
      "The analog-to-digital-signal bit was only complicated by the fact that\n",
      "the cassette player couldn't be connected to my desktop:\n",
      "\n",
      "  1. Put the cassette in the boombox.\n",
      "  2. Hook the boombox to the netbook.\n",
      "  3. Use \"Sound Recorder\" to make `lr.wma`.\n",
      "  3. Move `lr.wma` to my desktop via a thumb drive.\n",
      "  5. Use Audacity to chop off the dead air and save in `.wav` format.\n",
      "\n",
      "<figure>\n",
      "  <img src='https://lh5.googleusercontent.com/-fOsav6xJGIs/UN9dyRBVMLI/AAAAAAAAAkc/FYLZAAs8Tec/s494/audacity-light-runner.png' />\n",
      "  <figcaption>Audio cassette data in Audacity</figcaption>\n",
      "</figure>"
     ]
    },
    {
     "cell_type": "markdown",
     "metadata": {},
     "source": [
      "\n",
      "**Processing the digital signal** involved a steep learning curve. As\n",
      "explained on pg. 10 of The FACTS:\n",
      "\n",
      ">  G. Cassette Interface - Cassette data is stored onto the tape\n",
      ">  using a format called Frequency Shift Keying (FSK). This means that\n",
      ">  two sine waves of differing frequency are used to zeroes and ones\n",
      ">  on the tape. A sine wave of 2400 hz is used to store a one, and a\n",
      ">  sine wave of 1200 Hertz is used to store a zero.\n",
      "\n",
      "I surfed around, wondering whether to make this an R project or a numpy project.\n",
      "The clincher was a StackOverflow clue on [detecting zero crossings][1] by Jim Brissom Oct 1 2010:\n",
      "\n",
      "[1]: http://stackoverflow.com/a/3843124"
     ]
    },
    {
     "cell_type": "code",
     "collapsed": false,
     "input": [
      "def zero_crossings(signal):\n",
      "    return numpy.where(numpy.diff(numpy.sign(signal)))[0]\n",
      "a = [1, 2, 1, 1, -3, -4, 7, 8, 9, 10, -2, 1, -3, 5, 6, 7, -10]\n",
      "zero_crossings(a)"
     ],
     "language": "python",
     "metadata": {},
     "outputs": [
      {
       "output_type": "pyout",
       "prompt_number": 2,
       "text": [
        "array([ 3,  5,  9, 10, 11, 12, 15])"
       ]
      }
     ],
     "prompt_number": 2
    },
    {
     "cell_type": "markdown",
     "metadata": {},
     "source": [
      "Making a numpy array out of a `.wav` file is a piece of cake.\n",
      "Scaling the amplitude to fit in an 8 bit DAC like the CoCo's\n",
      "helps eliminate some high frequency noise:\n",
      "(@@see `cloadm.py`)"
     ]
    },
    {
     "cell_type": "code",
     "collapsed": false,
     "input": [
      "import wave\n",
      "import cloadm as c\n",
      "tape_fn = 'lr-cut.wav'\n",
      "dest_fn = 'light-runner'\n",
      "tape = wave.open(tape_fn, 'r')\n",
      "dest = open(dest_fn, 'w')\n",
      "framerate, signal = c.wavLoadMono(tape)\n",
      "amp_max = 128  # 8 bit signed\n",
      "signal = signal * amp_max / max(signal)\n",
      "framerate, len(signal), signal[:5]"
     ],
     "language": "python",
     "metadata": {},
     "outputs": [
      {
       "output_type": "pyout",
       "prompt_number": 3,
       "text": [
        "(44100, 1223945, array([16, 17, 17, 17, 17]))"
       ]
      }
     ],
     "prompt_number": 3
    },
    {
     "cell_type": "markdown",
     "metadata": {},
     "source": [
      "The next step is to find the long sequence of\n",
      "alternating 0s and 1s that mark the beginning of a sequence of bytes.\n",
      "In Audacity, I could hear the tone right around 2 seconds in.\n",
      "The signal at this point looks about right:"
     ]
    },
    {
     "cell_type": "code",
     "collapsed": true,
     "input": [
      "%pylab inline"
     ],
     "language": "python",
     "metadata": {},
     "outputs": [
      {
       "output_type": "stream",
       "stream": "stdout",
       "text": [
        "\n",
        "Welcome to pylab, a matplotlib-based Python environment [backend: module://IPython.zmq.pylab.backend_inline].\n",
        "For more information, type 'help(pylab)'.\n"
       ]
      }
     ],
     "prompt_number": 1
    },
    {
     "cell_type": "code",
     "collapsed": false,
     "input": [
      "t = arange(2.0, 2.01, 1.0/framerate)\n",
      "_ = plot(t,\n",
      "         signal[t[0] * framerate:t[0] * framerate + len(t)])\n",
      "grid()"
     ],
     "language": "python",
     "metadata": {},
     "outputs": [
      {
       "output_type": "display_data",
       "png": "[encoded data removed]",
       "text": [
        "<matplotlib.figure.Figure at 0x32b92d0>"
       ]
      }
     ],
     "prompt_number": 4
    },
    {
     "cell_type": "markdown",
     "metadata": {},
     "source": [
      "The pattern of bits was close, but not quite there, no matter how I played with the threshold:"
     ]
    },
    {
     "cell_type": "code",
     "collapsed": true,
     "input": [
      "freqs, wave_ix = c.waves(zero_crossings(signal), framerate)\n",
      "threshold = 1400  # experimental; cf. (CoCo.rate0 + CoCo.rate1) / 2\n",
      "bits = (freqs > threshold) + 0\n",
      "bits[wave_ix > 2.0 * framerate][:40]"
     ],
     "language": "python",
     "metadata": {},
     "outputs": [
      {
       "output_type": "pyout",
       "prompt_number": 5,
       "text": [
        "array([1, 0, 1, 0, 1, 0, 1, 1, 1, 0, 1, 0, 1, 0, 1, 0, 1, 0, 1, 1, 0, 1, 0,\n",
        "       1, 0, 1, 0, 1, 1, 1, 0, 1, 0, 1, 0, 1, 0, 1, 1, 0])"
       ]
      }
     ],
     "prompt_number": 5
    },
    {
     "cell_type": "markdown",
     "metadata": {},
     "source": [
      "I pored over the disassembly from _The FACTS_, wondering what I'd missed:"
     ]
    },
    {
     "cell_type": "raw",
     "metadata": {},
     "source": [
      "*** LOOK FOR THE SYNC BYTES - RETURN WITH ACCA = 0 IF SYNC\u2019ED\n",
      "*** ON HI - LO TRANSITION, ACCA = $A0 IF SYNC\u2019ED ON THE\n",
      "*** LO - HI TRANSITION OF THE INPUT SIGNAL FROM THE CASSETTE.\n",
      "CASON  ORCC   #$50      DISABLE IRQ,FIRQ\n",
      "       BSR    LA7CA     TURN ON TAPE DECK MOTOR\n",
      "       CLR    CPULWD    RESET UP TO SPEED COUNTER\n",
      "LA782  BSR    LA763     WAIT FOR LO-HI TRANSITION\n",
      "LA784  BSR    LA7AD     WAIT FOR HI-LO TRANSITION\n",
      "       BHI    LA797     CASSETTE SPEED IN RANGE FOR 1200 HZ\n",
      "LA788  BSR    LA7A7     WAIT FOR LO-HI TRANSITION\n",
      "       BCS    LA79B     CASSETTE SPEED IN RANGE FOR 2400 HZ\n",
      "       DEC    CPULWD    DECREMENT UP TO SPEED COUNTER IF SYNC\u2019ED ON LO-HI\n",
      "       LDA    CPULWD    GET IT\n",
      "       CMPA   #-96      HAVE THERE BEEN 96 CONSECUTIVE 1-0-1-0 PATTERNS\n",
      "LA792  BNE    LA782     NO\n",
      "       STA    CBTPHA    SAVE WHICH TRANSITION (HI-LO OR LO-HI)\n",
      "       RTS"
     ]
    },
    {
     "cell_type": "markdown",
     "metadata": {},
     "source": [
      "_Aside_: I haven't found _The FACTS_ online, but the disassemblies\n",
      "are also available in [Color-Basic-Unravelled.pdf][cbu], also\n",
      "by Spectral Associates, digitally restored by [Aaron Wolfe][aw].\n",
      "\n",
      "[cbu]: https://sites.google.com/a/aaronwolfe.com/cococoding/home/docs/color-basic-unravelled.pdf?attredirects=0&d=1     \n",
      "[aw]: https://sites.google.com/a/aaronwolfe.com/     \n",
      "\n",
      "I finally found the bug by\n",
      "\n",
      "  - focussing on an even smaller section of the signal,\n",
      "  - together with the calculated frequencies and the derived bits: "
     ]
    },
    {
     "cell_type": "code",
     "collapsed": false,
     "input": [
      "lo = int(framerate * 0.560)\n",
      "hi = int(framerate * 0.580)\n",
      "lo, hi\n",
      "\n",
      "ix = intersect1d(where(wave_ix > lo)[0], where(wave_ix < hi)[0])\n",
      "\n",
      "ones = ix[bits[ix] == 1]\n",
      "zeros = ix[bits[ix] == 0]\n",
      "_ = plot(arange(lo, hi), signal[lo:hi], 'b-',\n",
      "         wave_ix[ix], (freqs/20)[ix], 'g*',\n",
      "         wave_ix[ones], bits[ones], 'r+',\n",
      "         wave_ix[zeros], bits[zeros], 'ro')"
     ],
     "language": "python",
     "metadata": {},
     "outputs": [
      {
       "output_type": "display_data",
       "png": "[encoded data removed]",
       "text": [
        "<matplotlib.figure.Figure at 0x32f7950>"
       ]
      }
     ],
     "prompt_number": 6
    },
    {
     "cell_type": "markdown",
     "metadata": {},
     "source": [
      "Do you see it?\n",
      "\n",
      "The crossings start lo-hi for the first five bits, but somehow\n",
      "the next bit is marked at a hi-lo transition.\n",
      "\n",
      "I added a line of code to say that they should all go the same direction:\n",
      "\n",
      "        assert((numpy.sign(signal[z[::2]]) == numpy.sign(z[0])).all())\n",
      "\n",
      "When the signal crossed zero by actually hitting zero, it threw things off.\n",
      "So I tweaked `zero_crossings` algorithm to use `sign() > 0` so that we\n",
      "have just +/-, rather than +1/0/-1:"
     ]
    },
    {
     "cell_type": "code",
     "collapsed": true,
     "input": [
      "def zero_crossings(signal):\n",
      "    return numpy.where(numpy.diff(numpy.sign(signal) > 0))[0]\n",
      " \n",
      "zero_crossings([2, 1, 0, -1, -2, 1, 4, -4])"
     ],
     "language": "python",
     "metadata": {},
     "outputs": [
      {
       "output_type": "pyout",
       "prompt_number": 7,
       "text": [
        "array([1, 4, 6])"
       ]
      }
     ],
     "prompt_number": 7
    },
    {
     "cell_type": "markdown",
     "metadata": {},
     "source": [
      "Now the 1's and 0's alternate nicely:"
     ]
    },
    {
     "cell_type": "code",
     "collapsed": false,
     "input": [
      "freqs, wave_ix = c.waves(zero_crossings(signal), framerate)\n",
      "threshold = 1400  # experimental; cf. (CoCo.rate0 + CoCo.rate1) / 2\n",
      "bits = (freqs > threshold) + 0\n",
      "bits[wave_ix > 2.0 * framerate][:40]"
     ],
     "language": "python",
     "metadata": {},
     "outputs": [
      {
       "output_type": "pyout",
       "prompt_number": 8,
       "text": [
        "array([1, 0, 1, 0, 1, 0, 1, 0, 1, 0, 1, 0, 1, 0, 1, 0, 1, 0, 1, 0, 1, 0, 1,\n",
        "       0, 1, 0, 1, 0, 1, 0, 1, 0, 1, 0, 1, 0, 1, 0, 1, 0])"
       ]
      }
     ],
     "prompt_number": 8
    },
    {
     "cell_type": "markdown",
     "metadata": {},
     "source": [
      "This allows us to find the sync pattern:"
     ]
    },
    {
     "cell_type": "code",
     "collapsed": false,
     "input": [
      "c.find_sync(bits)"
     ],
     "language": "python",
     "metadata": {},
     "outputs": [
      {
       "output_type": "pyout",
       "prompt_number": 9,
       "text": [
        "1145"
       ]
      }
     ],
     "prompt_number": 9
    },
    {
     "cell_type": "markdown",
     "metadata": {},
     "source": [
      "Putting it all together, we see that we get a certain distance before falling out of sync:"
     ]
    },
    {
     "cell_type": "code",
     "collapsed": false,
     "input": [
      "import logging\n",
      "logging.basicConfig(level=logging.INFO)\n",
      "import StringIO\n",
      "tape = wave.open(tape_fn, 'r')\n",
      "dest = StringIO.StringIO()\n",
      "try:\n",
      "    c.decode(tape, dest)\n",
      "except ValueError:\n",
      "    print \"oops!\""
     ],
     "language": "python",
     "metadata": {},
     "outputs": [
      {
       "output_type": "stream",
       "stream": "stderr",
       "text": [
        "INFO:cloadm:block type: 0 length: 15\n"
       ]
      },
      {
       "output_type": "stream",
       "stream": "stderr",
       "text": [
        "INFO:cloadm:block type: 1 length: 255\n"
       ]
      },
      {
       "output_type": "stream",
       "stream": "stderr",
       "text": [
        "WARNING:cloadm:expected check $88 does not match found $8\n"
       ]
      },
      {
       "output_type": "stream",
       "stream": "stderr",
       "text": [
        "INFO:cloadm:block type: 1 length: 255\n"
       ]
      },
      {
       "output_type": "stream",
       "stream": "stderr",
       "text": [
        "WARNING:cloadm:expected check $6d does not match found $ed\n"
       ]
      },
      {
       "output_type": "stream",
       "stream": "stderr",
       "text": [
        "INFO:cloadm:block type: 1 length: 255\n"
       ]
      },
      {
       "output_type": "stream",
       "stream": "stderr",
       "text": [
        "INFO:cloadm:block type: 1 length: 255\n"
       ]
      },
      {
       "output_type": "stream",
       "stream": "stderr",
       "text": [
        "INFO:cloadm:block type: 1 length: 255\n"
       ]
      },
      {
       "output_type": "stream",
       "stream": "stderr",
       "text": [
        "INFO:cloadm:block type: 1 length: 255\n"
       ]
      },
      {
       "output_type": "stream",
       "stream": "stderr",
       "text": [
        "INFO:cloadm:block type: 1 length: 255\n"
       ]
      },
      {
       "output_type": "stream",
       "stream": "stderr",
       "text": [
        "WARNING:cloadm:expected check $f0 does not match found $70\n"
       ]
      },
      {
       "output_type": "stream",
       "stream": "stderr",
       "text": [
        "INFO:cloadm:block type: 1 length: 255\n"
       ]
      },
      {
       "output_type": "stream",
       "stream": "stderr",
       "text": [
        "WARNING:cloadm:expected check $6 does not match found $86\n"
       ]
      },
      {
       "output_type": "stream",
       "stream": "stderr",
       "text": [
        "WARNING:cloadm:expected block start $55 does not match found $ab\n"
       ]
      },
      {
       "output_type": "stream",
       "stream": "stderr",
       "text": [
        "WARNING:cloadm:expected block start $3c does not match found $78\n"
       ]
      },
      {
       "output_type": "stream",
       "stream": "stderr",
       "text": [
        "INFO:cloadm:block type: 2 length: 254\n"
       ]
      },
      {
       "output_type": "stream",
       "stream": "stdout",
       "text": [
        "oops!\n"
       ]
      }
     ],
     "prompt_number": 10
    },
    {
     "cell_type": "markdown",
     "metadata": {},
     "source": [
      "The filename and copyright statement confirm that we're on the right track:"
     ]
    },
    {
     "cell_type": "code",
     "collapsed": false,
     "input": [
      "content = dest.getvalue()\n",
      "print \"filename:\", content[:8]\n",
      "print\n",
      "print content[229:298].replace('\\x00', '\\n')"
     ],
     "language": "python",
     "metadata": {},
     "outputs": [
      {
       "output_type": "stream",
       "stream": "stdout",
       "text": [
        "filename: RUNNER  \n",
        "\n",
        "LIGHT RUNNER\n",
        "COPR(C) 1983 BY CO&CO SOFTWARE\n",
        "WRITTEN BY: DAN CONNOLLY\n",
        "\n"
       ]
      }
     ],
     "prompt_number": 11
    },
    {
     "cell_type": "markdown",
     "metadata": {},
     "source": [
      "## Related Work\n",
      "\n",
      "@@@move this bit up; end with copyright statement\n",
      "\n",
      "Browsing around the [coco mailing list][ml]\n",
      "I found a `CASIN.EXE` program by Jeff Vavasour circa 1994;\n",
      "I got it running under dosbox; the first thing it said was:\n",
      "\n",
      "    This .WAV file is not a 11025Hz/mono/8-bit sample.\n",
      "\n",
      "So sox to the rescue:\n",
      "\n",
      "    $ `sox ../../lr-cut.wav -r 11025 -b 8 lr8.wav`\n",
      "\n",
      "Then `CASIN` made some progress, but didn't get very far.\n",
      "It decoded even less data than my code did. I might have felt\n",
      "a little silly poring over all the low-level details if\n",
      "there was a well-known solution that worked out of the box.\n",
      "But data analysis and signal processing is a growing part\n",
      "of my day job, and learning the scientific python toolset\n",
      "has been on my todo list for quite some time, so I'm glad I did.\n",
      "\n",
      "[ml]: http://five.pairlist.net/pipermail/coco/\n"
     ]
    },
    {
     "cell_type": "markdown",
     "metadata": {},
     "source": [
      "## Colophon\n",
      "\n",
      "I'm trying out [IPython] as an authoring tool.\n",
      "I'm fond of the interactive notebook idea.\n",
      "The 0.12 version that comes with Ubuntu didn't support\n",
      "inline plotting, and cell selection was glitchy.\n",
      "But I'm using 0.14dev, and while it doesn't quite feel as\n",
      "mature as RStudio, it's getting pretty close.\n",
      "\n",
      "[IPython]: http://ipython.org/"
     ]
    }
   ],
   "metadata": {}
  }
 ]
}