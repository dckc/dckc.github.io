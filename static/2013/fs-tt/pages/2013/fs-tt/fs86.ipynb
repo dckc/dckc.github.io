{
 "metadata": {
  "name": ""
 },
 "nbformat": 3,
 "nbformat_minor": 0,
 "worksheets": [
  {
   "cells": [
    {
     "cell_type": "heading",
     "level": 1,
     "metadata": {},
     "source": [
      "Digital Restoration for Math Notes: Natural Deduction"
     ]
    },
    {
     "cell_type": "markdown",
     "metadata": {},
     "source": [
      "<pre class=\"about yaml\">\n",
      "date: 2013-12-29\n",
      "published: true\n",
      "tags: ['Austin', 'research', 'logic', 'collaboration', 'archive-math-notes', 'ipython']\n",
      "summary: My quest to to find a good digital preservation technique for my college math and computer science notebooks has been rekindled most recently by idris and earlier by metamath and proofcheck.\n",
      "</pre>"
     ]
    },
    {
     "cell_type": "markdown",
     "metadata": {},
     "source": [
      "My [quest][] to to find a good digital preservation technique for my college math and computer science notebooks has been rekindled most recently by [idris][] and earlier by [metamath][] and [proofcheck][].\n",
      "\n",
      " [quest]: /search/label/archive-math-notes/\n",
      " [idris]: http://www.idris-lang.org/\n",
      " [metamath]: http://us.metamath.org/index.html\n",
      " [proofcheck]: https://pypi.python.org/pypi/proofcheck\n",
      "\n",
      "Meanwhile, the IPython notebook with MathJax and FLiP makes for an interesting editing and collaboration tool."
     ]
    },
    {
     "cell_type": "heading",
     "level": 2,
     "metadata": {},
     "source": [
      "Rendering Inference Rules with MathJax"
     ]
    },
    {
     "cell_type": "markdown",
     "metadata": {},
     "source": [
      "This is a typical page of my notes:\n",
      "\n",
      "<figure>\n",
      "<img src=\"https://lh6.googleusercontent.com/-q_hDdsOim7k/Ur9JxjlmwnI/AAAAAAAABg4/i0UTdHqQcq0/w614-h613-no/M373K_notebook_pg2-e.png\" />\n",
      "<figcaption>M373K notebook page 2</figcaption>\n",
      "</figure>"
     ]
    },
    {
     "cell_type": "markdown",
     "metadata": {},
     "source": [
      "Math and C.S. literature is traditionally written with $\\TeX$. I've used it only occasionally and reluctantly, by [writing in HTML and converting][1], but but MathJax seems to do a great job of integrating it into the web.\n",
      "\n",
      " [1]: http://www.w3.org/2004/04/xhlt91/\n",
      " \n",
      "The first definition on that page of number theory notes is \"a divides b\":\n",
      "\n",
      "<figure>\n",
      "<img src=\"https://lh6.googleusercontent.com/-CmJUpTOqcKc/Urz6D_3W5zI/AAAAAAAABd4/Dx7cZZrdznw/w500-h123-no/defn_a_divides_b.png\" alt=\"a divides b iff ...\" /> \n",
      "<figcaption>Definition of \"a divides b\"</figcaption>\n",
      "</figure>\n",
      "\n",
      "Using MathJax, I can get a pretty good rendition:\n",
      "\n",
      "> $\\operatorname{Def^n}$ $ a | b$ \"a divides b\"\n",
      ">\n",
      "> Note: universe = $\\Bbb Z$\n",
      ">\n",
      "> $$ a|b \\iff \\exists k (b = ka)$$\n",
      "\n",
      "I looked all over for a way to render bi-directional inference rules, but I could only find MathJax support for one direction:\n",
      "\n",
      "> $$ \\frac{a|b}{\\exists k (b = ka)}$$\n",
      "\n",
      "Perhaps using this notation for \"equivalent by definition\" would be better than bi-directional implication in some ways, though it's not much better for visual pattern matching:\n",
      "\n",
      "> $$ a|b \\equiv \\exists k (b = ka)$$"
     ]
    },
    {
     "cell_type": "heading",
     "level": 2,
     "metadata": {},
     "source": [
      "Proofcheck: Formalizing TeX proofs with Morris Logic"
     ]
    },
    {
     "cell_type": "markdown",
     "metadata": {},
     "source": [
      "The point is not just to *render* the notes nicely but to *capture the knowledge* in a way I (and my collaborators) can exploit by machine."
     ]
    },
    {
     "cell_type": "markdown",
     "metadata": {},
     "source": [
      "Proofs in the $\\TeX$ dialect in Bob Neveln's [ProofCheck][] system can be checked by a few thousand lines of python code. The dialect imposes very little in the way of logical constraints over and above the way articles are typically written:\n",
      "\n",
      "  [ProofCheck]: http://cs.widener.edu/proofcheck/\n",
      "\n",
      "<figure>\n",
      "<img src=\"http://cs.widener.edu/proofcheck/examples/divides1.png\" alt=\"\" />\n",
      "<figcaption>formal proof: Divisibility is Transitive</figcaption>\n",
      "</figure>"
     ]
    },
    {
     "cell_type": "markdown",
     "metadata": {},
     "source": [
      "I tried to figure out how it works from the python source code but quickly got lost. While attempting a scala port ([pfmorris][]) to sort out the latent types, I realized the python source wasn't the best explanation of what's going on. The [common notions][] file explain the use of [Morris Logic](#Alps-Neveln81) with second-order schemators and [Hilbert's epsilon][] for indefinite description.\n",
      "\n",
      "  [common notions]: http://cs.widener.edu/proofcheck/commonnotions.html\n",
      "  [Hilbert's epsilon]: https://en.wikipedia.org/wiki/Epsilon_calculus\n",
      "  [pfmorris]: https://bitbucket.org/DanC/pfmorris\n",
      "\n",
      "Working on the scala port got sufficiently repetetive and tedious that I wondered if automating it might work better. The byproduct is [py2scala][], which turns out to be more directly useful for python refactoring than porting. More on that in another episode, I hope.\n",
      "\n",
      "  [py2scala]: https://bitbucket.org/DanC/py2scala\n",
      "  \n",
      "Meanwhile, back to the quest to preserve my notebooks...\n"
     ]
    },
    {
     "cell_type": "heading",
     "level": 2,
     "metadata": {},
     "source": [
      "Natural Deduction and Fitch Diagrams"
     ]
    },
    {
     "cell_type": "markdown",
     "metadata": {},
     "source": [
      "The notation I used for formal proofs throughout my time at U.T. Austin, and to this day for similar tasks, comes from the *Philosophy 313K: Logic, Sets and Functions* course. The instructors were Kant and Bonevac. I remember Kant giving most of the lectures, but Bonevac wrote the [text](#Bonevac86):\n",
      "\n",
      "<figure>\n",
      "<a href=\"https://plus.google.com/photos/112068148589999713385/albums/5961914947303558753/5962551333982176850?pid=5962551333982176850&oid=112068148589999713385\">\n",
      "<img src=\"https://lh5.googleusercontent.com/LPbzFM_hRIeV3kr3y4kMv4-uObT_lfN8ys8G5AN3CO0=w159-h207-p-no\" alt=\"book and notebook\" />\n",
      "<figcaption>Proof text by Bonevac and my PHL313k notebook</figcaption>\n",
      "</a>\n",
      "</figure>"
     ]
    },
    {
     "cell_type": "markdown",
     "metadata": {},
     "source": [
      "The system is introduced on p. 98:\n",
      "\n",
      "> The idea of an axiomatic system is old, dating at least from the time of Euclid. The Stoics, who were Greek philosophers of the third century B.C. were the first logicians to organize logic aximatically. In contrast, natural deduction systems are relatively new; Gerhard Gentzen, a German logician, and Stanislaw Jaskowski, a Polish student of Jan Lukasiewicz, independently proposed the first natural deduction systems in 1934. The system of this book owes a great deal, as well, to innovations by the American logicians Willard van  Orman Quine, Frederic B. Fitch, Donald Kalish and Richard Montague.\n",
      "\n",
      "The history was lost on me at the time, but it took on practical relevance as I looked at metamath. I could read the proofs fairly well, but when I tried to write even a simple one, I was stuck. It wasn't until I discovered [a natural deduction based metamath system][2] that I realized the conventional [metamath proofs are written Hilbert-style][3] and the system I learned is\n",
      "a natural deduction system, and converting Hilbert-style to natural deduction\n",
      "is notoriously difficult.\n",
      "\n",
      "  [2]: http://wiki.planetmath.org/cgi-bin/wiki.pl/Natural_deduction_based_metamath_system\n",
      "  [3]: http://us.metamath.org/mpegif/mmset.html#traditional"
     ]
    },
    {
     "cell_type": "markdown",
     "metadata": {},
     "source": [
      "The modern rendition of the text seems to be a more polished book, [Deduction][]. The text isn't handy for me to link to, but the system seems to be based on [fitch diagrams][], which are supported by various tools around the web.\n",
      "\n",
      "  [fitch diagrams]: https://en.wikipedia.org/wiki/Fitch-style_calculus\n",
      "  [Deduction]: http://bonevac.info/deduction/About_the_Book.html\n",
      "\n",
      "Consider the first example from chapter 4, *Formal Proof*, of the '86 text:\n",
      "\n",
      "<figure>\n",
      "<img src=\"https://lh6.googleusercontent.com/-lKLjhVZbU5Q/Ur876JuXUCI/AAAAAAAABfU/HimdrgZ6iCI/w768-h290-no/bonevac86_p108_ex.jpg\" alt=\"Show p and q implies q and p\" /> \n",
      "<figcaption>First example from chapter 4,  *Formal Proof*</figcaption>\n",
      "</figure>"
     ]
    },
    {
     "cell_type": "markdown",
     "metadata": {},
     "source": [
      "It looks like this in [proofmood](http://www.proofmood.com/index_en.php):\n",
      "\n",
      "<figure>\n",
      "<img src=\"https://lh4.googleusercontent.com/-FPbInyr_wcY/Ur876b0Ej2I/AAAAAAAABfI/WWfxFItLbNw/w538-h394-no/fitch-screenshot.png\" alt=\"Proofmood screenshot\" />\n",
      "<figcaption>screenshot of Proofmood verifying proof of P ^ Q -> Q ^ P</figcaption>\n",
      "</figure>"
     ]
    },
    {
     "cell_type": "markdown",
     "metadata": {},
     "source": [
      "In their Input/Output syntax:"
     ]
    },
    {
     "cell_type": "code",
     "collapsed": false,
     "input": [
      "derivation = \"\"\"\n",
      "[ entails [ p & q entails q :& elim 2 ;p :& elim 2 ;q & p :& intro 3,4 ] ;(p & q) $ (q & p) :$ intro 2-5 ] !line_cnc5\"\"\""
     ],
     "language": "python",
     "metadata": {},
     "outputs": [],
     "prompt_number": 1
    },
    {
     "cell_type": "heading",
     "level": 2,
     "metadata": {},
     "source": [
      "Formal Logic in Python (FLiP)"
     ]
    },
    {
     "cell_type": "markdown",
     "metadata": {},
     "source": [
      "I'm increasingly happy with the IPython notebook for immersive hypertext editing with integrated computation. I'd like to integrate it with the idris REPL, but meanwhile, a search for **python** and **natural deduction** turned up [FLiP](https://pypi.python.org/pypi/FLiP/)."
     ]
    },
    {
     "cell_type": "markdown",
     "metadata": {},
     "source": [
      "`import *` is usually not a good idea, but for interactive use, it makes sense:"
     ]
    },
    {
     "cell_type": "code",
     "collapsed": false,
     "input": [
      "from flip.logic.fol_session import *"
     ],
     "language": "python",
     "metadata": {},
     "outputs": [],
     "prompt_number": 2
    },
    {
     "cell_type": "markdown",
     "metadata": {},
     "source": [
      "Python syntax is used to enter formulas and proof steps. FLiP then generates a more traditional notation:"
     ]
    },
    {
     "cell_type": "code",
     "collapsed": false,
     "input": [
      "clear()\n",
      "checkp(And(p, q), assume)"
     ],
     "language": "python",
     "metadata": {},
     "outputs": [
      {
       "output_type": "stream",
       "stream": "stdout",
       "text": [
        "|p & q                    (0)  Assumption\n"
       ]
      }
     ],
     "prompt_number": 3
    },
    {
     "cell_type": "markdown",
     "metadata": {},
     "source": [
      "After the assumption, we can apply some elimination and introduction rules:"
     ]
    },
    {
     "cell_type": "code",
     "collapsed": false,
     "input": [
      "apropos(And)"
     ],
     "language": "python",
     "metadata": {},
     "outputs": [
      {
       "output_type": "stream",
       "stream": "stdout",
       "text": [
        "[('ai', ['m1', 'm2', 'And(m1,m2)']),\n",
        " ('aer', ['And(m1,m2)', 'm1']),\n",
        " ('ael', ['And(m1,m2)', 'm2'])]\n"
       ]
      }
     ],
     "prompt_number": 4
    },
    {
     "cell_type": "code",
     "collapsed": false,
     "input": [
      "rapply(ael, 0)\n",
      "rapply(aer, 0)\n",
      "rapply(ai, 1, 2)"
     ],
     "language": "python",
     "metadata": {},
     "outputs": [
      {
       "output_type": "stream",
       "stream": "stdout",
       "text": [
        "|q                        (1)  And-Elimination (Left) (0)\n",
        "|p                        (2)  And-Elimination (Right) (0)\n",
        "|q & p                    (3)  And-Introduction (1) (2)\n"
       ]
      }
     ],
     "prompt_number": 5
    },
    {
     "cell_type": "markdown",
     "metadata": {},
     "source": [
      "That much was pretty obvious, but to use subproofs, I had to read the documentation:"
     ]
    },
    {
     "cell_type": "code",
     "collapsed": false,
     "input": [
      "checkp(Impl(And(p, q), And(q, p)), impli, 0, 3)"
     ],
     "language": "python",
     "metadata": {},
     "outputs": [
      {
       "output_type": "stream",
       "stream": "stdout",
       "text": [
        "(p & q) -> (q & p)        (4)  Implication-Introduction (0) (3)\n"
       ]
      }
     ],
     "prompt_number": 6
    },
    {
     "cell_type": "markdown",
     "metadata": {},
     "source": [
      "The whole proof looks pretty much like the example from chapter 4:"
     ]
    },
    {
     "cell_type": "code",
     "collapsed": false,
     "input": [
      "pp()"
     ],
     "language": "python",
     "metadata": {},
     "outputs": [
      {
       "output_type": "stream",
       "stream": "stdout",
       "text": [
        "|p & q                    (0)  Assumption\n",
        "|q                        (1)  And-Elimination (Left) (0)\n",
        "|p                        (2)  And-Elimination (Right) (0)\n",
        "|q & p                    (3)  And-Introduction (1) (2)\n",
        "(p & q) -> (q & p)        (4)  Implication-Introduction (0) (3)\n"
       ]
      }
     ],
     "prompt_number": 7
    },
    {
     "cell_type": "heading",
     "level": 2,
     "metadata": {},
     "source": [
      "Quantification, Rules, and a hint of Type Theory"
     ]
    },
    {
     "cell_type": "markdown",
     "metadata": {},
     "source": [
      "This natural deduction system is not just propositional but first order, with quantification. The \"hello world\" example we used for [semantic web research](http://www.w3.org/2000/10/swap/) was [socrates.n3](http://www.w3.org/2000/10/swap/test/reason/socrates.n3):\n",
      "\n",
      "$$\n",
      "\\operatorname{Man}(\\operatorname{socrates}) \\\\\n",
      "\\forall x (\\operatorname{Man}(x) \\implies \\operatorname{Mortal}(x))\\\\\n",
      "\\therefore \\operatorname{Mortal}(socrates)\n",
      "$$\n",
      "\n",
      "Kludging the naming a bit, it looks like this in FLiP:"
     ]
    },
    {
     "cell_type": "code",
     "collapsed": false,
     "input": [
      "clear()\n",
      "Man = P\n",
      "Mortal = Q\n",
      "socrates = a\n",
      "\n",
      "checkp(Man(a), given)\n",
      "checkp(A(x, Impl(Man(x), Mortal(x))), given)\n",
      "rapply(Ae, 1, a)\n",
      "rapply(imple, 2, 0)"
     ],
     "language": "python",
     "metadata": {},
     "outputs": [
      {
       "output_type": "stream",
       "stream": "stdout",
       "text": [
        "P(a)                      (0)  Given\n",
        "Ax.(P(x) -> Q(x))         (1)  Given\n",
        "P(a) -> Q(a)              (2)  A-Elimination (1), with a\n",
        "Q(a)                      (3)  Implication-Elimination (Modus Ponens) (2) (0)\n"
       ]
      }
     ],
     "prompt_number": 8
    },
    {
     "cell_type": "markdown",
     "metadata": {},
     "source": [
      "Using idris and dependent types is another episode altogether, but to give a hint...\n",
      "\n",
      "We can state the theorem this way:\n",
      "\n",
      "    thm1 : {thing: Type} -> {Man, Mortal: thing -> Type}\n",
      "            -> ((x: thing) -> (Man x -> Mortal x))\n",
      "            -> (socrates: thing) -> (Man socrates)\n",
      "            -> (Mortal socrates)\n",
      "\n",
      "and the proof is really simple:\n",
      "\n",
      "    thm1 all_men_mortal socrates socrates_a_man =\n",
      "      all_men_mortal socrates socrates_a_man\n"
     ]
    },
    {
     "cell_type": "heading",
     "level": 2,
     "metadata": {},
     "source": [
      "References"
     ]
    },
    {
     "cell_type": "markdown",
     "metadata": {},
     "source": [
      "  * <a name=\"Alps-Neveln81\">Alps, Robert A., and Robert C. Neveln. 1981</a>. \u201cA Predicate Logic Based on Indefinite Description and Two Notions of Identity.\u201d Notre Dame J. Formal Logic 22 (3): 251\u2013263. doi:doi:10.1305/ndjfl/1093883460. http://projecteuclid.org/euclid.ndjfl/1093883460.\n",
      "  * <a name=\"Bonevac86\">Bonevac, Daniel. 1986</a>. *Proof: A Text for Philosophy 313K Logic, Sets and Functions*. Austin, Texas: Department of Philosophy, The University of Texas at Austin.\n",
      "  \n",
      "\n",
      "*cf. [fs86][] tag in my zotero library.*\n",
      "\n",
      "  [fs86]: https://www.zotero.org/connolly/items/tag/fs86\n",
      " "
     ]
    }
   ],
   "metadata": {}
  }
 ]
}