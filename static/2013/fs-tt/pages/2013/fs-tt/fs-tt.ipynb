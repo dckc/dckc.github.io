{
 "metadata": {
  "name": ""
 },
 "nbformat": 3,
 "nbformat_minor": 0,
 "worksheets": [
  {
   "cells": [
    {
     "cell_type": "heading",
     "level": 1,
     "metadata": {},
     "source": [
      "Formal Systems and Type Theory"
     ]
    },
    {
     "cell_type": "markdown",
     "metadata": {},
     "source": [
      "<figure>\n",
      "<img src=\"files/M373k_notebook_pg_2-med.png\" />\n",
      "<figcaption>M373K notebook page 2</figcaption>\n",
      "</figure>"
     ]
    },
    {
     "cell_type": "markdown",
     "metadata": {},
     "source": [
      " * metamath... hilbert vs. natural deduction\n",
      " http://www.proofmood.com/index_en.php\n",
      " * proofcheck... curious about the implementation... tried porting to scala... py2scala\n",
      "   * refactoring support\n",
      " * idris\n",
      " \n",
      " ancient history:\n",
      "  * [A Study of Linguistics: Representation and Exchange of Knowledge](http://www.w3.org/Collaboration/knowledge) 1996-2001"
     ]
    },
    {
     "cell_type": "markdown",
     "metadata": {},
     "source": [
      "Note: Universe = $\\Bbb Z$\n",
      "\n",
      "$\\operatorname{Def^n}$ $ a | b$ \"a divides b\"\n",
      "\n",
      "$$ a|b \\iff \\exists k (b = ka)$$\n",
      "\n",
      "$$ a|b \\equiv \\exists k (b = ka)$$\n",
      "\n"
     ]
    },
    {
     "cell_type": "markdown",
     "metadata": {},
     "source": [
      "*umm... I'm used to a double horizontal bar...*\n",
      "\n",
      "> A double line indicates that the rule is invertible&mdash;that one can go from what is above the lines to what is below them, or vice versa. The rule iworks in both directions.\n",
      "-- p. 108, [Bonevac86](http://www.w3.org/Collaboration/knowledge#Bonevac86)\n",
      "\n",
      "$$\\dfrac{a|b}{\\exists k (b = ka)}$$\n",
      "\n",
      "$$\n",
      "\\begin{array}{c}\n",
      "a|b\n",
      "\\\\ \\hline \\\\[5pt]\n",
      "\\hline\n",
      "\\exists k (b = ka)\n",
      "\\end{array}\n",
      "$$\n"
     ]
    },
    {
     "cell_type": "markdown",
     "metadata": {},
     "source": [
      "acks:\n",
      "\n",
      "* [proofwiki on Z](http://www.proofwiki.org/wiki/Symbols:Z)\n",
      "* [on type theory in stack exchange](http://cs.stackexchange.com/a/14686)"
     ]
    },
    {
     "cell_type": "markdown",
     "metadata": {},
     "source": [
      " > It takes a while to unlearn one's unacknowledged set-theoretic assumptions.\n",
      " -- [comment](http://cs.stackexchange.com/questions/14674/intro-to-martin-lof-type-theory#comment31381_14696)"
     ]
    },
    {
     "cell_type": "markdown",
     "metadata": {},
     "source": [
      "markdown for an excerpt? i.e. a blockquote with a <cite>?"
     ]
    },
    {
     "cell_type": "heading",
     "level": 2,
     "metadata": {},
     "source": [
      "MathJax in IPython... sweet!"
     ]
    },
    {
     "cell_type": "heading",
     "level": 2,
     "metadata": {},
     "source": [
      "How I started ipython notebook"
     ]
    },
    {
     "cell_type": "markdown",
     "metadata": {},
     "source": [
      "The version in Ubuntu 12.04 is too old for (I forget what; see [earlier episode](http://www.madmode.com/2012/light-runner-spelunking.html)).\n",
      "\n",
      "[IPython Installation instructions](http://ipython.org/install.html) don't document the dependencies for running `ipython notebook`:"
     ]
    },
    {
     "cell_type": "heading",
     "level": 2,
     "metadata": {},
     "source": [
      "References"
     ]
    },
    {
     "cell_type": "code",
     "collapsed": false,
     "input": [],
     "language": "python",
     "metadata": {},
     "outputs": []
    },
    {
     "cell_type": "markdown",
     "metadata": {},
     "source": [
      "*How do I get a shell syntax code cell?*"
     ]
    },
    {
     "cell_type": "markdown",
     "metadata": {},
     "source": []
    },
    {
     "cell_type": "code",
     "collapsed": false,
     "input": [
      "# wish: hCite markup support"
     ],
     "language": "python",
     "metadata": {},
     "outputs": []
    }
   ],
   "metadata": {}
  }
 ]
}