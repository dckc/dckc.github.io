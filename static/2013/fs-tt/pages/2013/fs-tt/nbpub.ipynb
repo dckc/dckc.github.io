{
 "metadata": {
  "name": ""
 },
 "nbformat": 3,
 "nbformat_minor": 0,
 "worksheets": [
  {
   "cells": [
    {
     "cell_type": "heading",
     "level": 1,
     "metadata": {},
     "source": [
      "Writing Madmode Articles with IPython"
     ]
    },
    {
     "cell_type": "markdown",
     "metadata": {},
     "source": [
      " * 1st episode: spelunking\n",
      " * docker trusted build, container\n",
      " * mm_ipy.py converter\n",
      " * wish: allow / in notebook names; i.e. dirs\n",
      " * wish: select multipel (github issue)"
     ]
    },
    {
     "cell_type": "markdown",
     "metadata": {},
     "source": [
      "nbconvert -f blogger-html your_notebook.ipynb\n",
      "from http://blog.fperez.org/2012/09/blogging-with-ipython-notebook.html no longer works.\n",
      "\n",
      "I see some issues in progress..\n",
      "\n",
      "Javascript hightlighting for NBConvert html output\n",
      "https://github.com/ipython/ipython/pull/4682\n",
      "\n",
      "\"Please do not add new templates for nbconvert here.\"\n",
      "https://github.com/ipython/ipython/tree/master/IPython/nbconvert/templates\n",
      "\n",
      "put them here instead\n",
      "\n",
      "https://github.com/ipython/ipython/wiki/Cookbook:%20nbconvert%20templates\n",
      "\n",
      "> -f blogger-html does not seem to be an option with nbconvert any longer\n",
      "Nov 18 2013\n",
      "http://stackoverflow.com/questions/20039058/blogging-with-ipython-notebook\n"
     ]
    },
    {
     "cell_type": "heading",
     "level": 2,
     "metadata": {},
     "source": [
      "Colophon"
     ]
    },
    {
     "cell_type": "markdown",
     "metadata": {},
     "source": [
      "Clues to remind me how I got `ipython notebook` running:\n",
      "\n",
      "    #!/bin/sh\n",
      "    > virtualenv ~/pyenv/pynb\n",
      "    > . ~/pyenv/pynb/bin/activate\n",
      "    (pynb)> pip install ipython\n",
      "    (pynb)> sudo apt-get install libzmq-dev\n",
      "    (pynb)> pip install pyzmq\n",
      "            ZMQ version detected: 2.1.11\n",
      "       Warning: Detected ZMQ version: 2.1.11, but pyzmq targets ZMQ 4.0.3.\n",
      "       Warning: libzmq features and fixes introduced after 2.1.11 will be unavailable.\n",
      "    (pynb)> pip install jinja2\n",
      "      Downloading Jinja2-2.7.1.tar.gz (377Kb): 377Kb downloaded\n",
      "    (pynb)> pip install tornado\n",
      "      Downloading tornado-3.1.1.tar.gz (374Kb): 374Kb downloaded\n",
      "    (pynb)> ipython notebook\n"
     ]
    },
    {
     "cell_type": "heading",
     "level": 2,
     "metadata": {},
     "source": [
      "References"
     ]
    },
    {
     "cell_type": "markdown",
     "metadata": {},
     "source": [
      "  * P\u00e9rez, Fernando, and Brian E. Granger. 2007. \u201cIPython: a System for Interactive Scientific Computing.\u201d Computing in Science & Engineering 9 (3): 21\u201329. doi:10.1109/MCSE.2007.53. URL: http://ipython.org"
     ]
    },
    {
     "cell_type": "heading",
     "level": 2,
     "metadata": {},
     "source": [
      "Fodder@@"
     ]
    },
    {
     "cell_type": "markdown",
     "metadata": {},
     "source": [
      "cribbed from [How to Use NBConvert](http://nbviewer.ipython.org/github/Carreau/posts/blob/master/06-NBconvert-Doc-Draft.ipynb)"
     ]
    },
    {
     "cell_type": "code",
     "collapsed": false,
     "input": [
      "from IPython.nbformat import current as nbformat\n",
      "nb = nbformat.reads_json(open('fs86.ipynb').read())\n",
      "nb.keys()"
     ],
     "language": "python",
     "metadata": {},
     "outputs": [
      {
       "metadata": {},
       "output_type": "pyout",
       "prompt_number": 19,
       "text": [
        "[u'nbformat', u'worksheets', u'metadata', u'nbformat_minor']"
       ]
      }
     ],
     "prompt_number": 19
    },
    {
     "cell_type": "code",
     "collapsed": false,
     "input": [
      "from IPython.config import Config\n",
      "from IPython.nbconvert import HTMLExporter"
     ],
     "language": "python",
     "metadata": {},
     "outputs": [],
     "prompt_number": 20
    },
    {
     "cell_type": "code",
     "collapsed": false,
     "input": [
      "exportHtml = HTMLExporter(config=Config({'HTMLExporter':{'default_template':'basic'}}))"
     ],
     "language": "python",
     "metadata": {},
     "outputs": [],
     "prompt_number": 21
    },
    {
     "cell_type": "code",
     "collapsed": false,
     "input": [
      "body, resources = exportHtml.from_notebook_node(nb)"
     ],
     "language": "python",
     "metadata": {},
     "outputs": [],
     "prompt_number": 22
    },
    {
     "cell_type": "code",
     "collapsed": false,
     "input": [
      "[(k, len(v)) for (k, v) in resources.items()]"
     ],
     "language": "python",
     "metadata": {},
     "outputs": [
      {
       "metadata": {},
       "output_type": "pyout",
       "prompt_number": 23,
       "text": [
        "[('inlining', 1), ('output_extension', 4), ('metadata', 1)]"
       ]
      }
     ],
     "prompt_number": 23
    },
    {
     "cell_type": "code",
     "collapsed": false,
     "input": [
      "body[:500]"
     ],
     "language": "python",
     "metadata": {},
     "outputs": [
      {
       "metadata": {},
       "output_type": "pyout",
       "prompt_number": 24,
       "text": [
        "u'\\n<div class=\"text_cell_render border-box-sizing rendered_html\">\\n<h1 id=\"Putting-my-old-proofs-in-the-Web:-Natural-Deduction\">Putting my old proofs in the Web: Natural Deduction<a class=\"anchor-link\" href=\"#Putting-my-old-proofs-in-the-Web:-Natural-Deduction\">&#182;</a></h1>\\n</div>\\n\\n<div class=\"text_cell_render border-box-sizing rendered_html\">\\n<p>My quest to to find a good digital preservation technique for my college math and computer science notebooks has been rekindled most recently by <a hre'"
       ]
      }
     ],
     "prompt_number": 24
    },
    {
     "cell_type": "code",
     "collapsed": false,
     "input": [
      "[txt[:100] for txt in resources['inlining']['css']]"
     ],
     "language": "python",
     "metadata": {},
     "outputs": [
      {
       "metadata": {},
       "output_type": "pyout",
       "prompt_number": 33,
       "text": [
        "[u'.clearfix{*zoom:1;}.clearfix:before,.clearfix:after{display:table;content:\"\";line-height:0;}\\n.clearf',\n",
        " u'.highlight .hll { background-color: #ffffcc }\\n.highlight  { background: #f8f8f8; }\\n.highlight .c { c']"
       ]
      }
     ],
     "prompt_number": 33
    },
    {
     "cell_type": "code",
     "collapsed": false,
     "input": [
      "type(resources)"
     ],
     "language": "python",
     "metadata": {},
     "outputs": [
      {
       "metadata": {},
       "output_type": "pyout",
       "prompt_number": 26,
       "text": [
        "IPython.nbconvert.exporters.exporter.ResourcesDict"
       ]
      }
     ],
     "prompt_number": 26
    },
    {
     "cell_type": "code",
     "collapsed": false,
     "input": [
      "nbformat.__file__"
     ],
     "language": "python",
     "metadata": {},
     "outputs": [
      {
       "metadata": {},
       "output_type": "pyout",
       "prompt_number": 36,
       "text": [
        "'/usr/local/lib/python2.7/dist-packages/IPython/nbformat/current.pyc'"
       ]
      }
     ],
     "prompt_number": 36
    },
    {
     "cell_type": "code",
     "collapsed": false,
     "input": [],
     "language": "python",
     "metadata": {},
     "outputs": []
    }
   ],
   "metadata": {}
  }
 ]
}